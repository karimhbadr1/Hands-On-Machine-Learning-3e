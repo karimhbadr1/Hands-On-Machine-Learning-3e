{
  "cells": [
    {
      "cell_type": "markdown",
      "metadata": {
        "id": "ZTRv8PVMDBvm"
      },
      "source": [
        "# Chapter 2"
      ]
    },
    {
      "cell_type": "markdown",
      "source": [
        "This is a test to check compatibility between Colab and GitHub."
      ],
      "metadata": {
        "id": "fv1ISGVpDDDO"
      }
    }
  ],
  "metadata": {
    "language_info": {
      "name": "python"
    },
    "colab": {
      "provenance": []
    }
  },
  "nbformat": 4,
  "nbformat_minor": 0
}